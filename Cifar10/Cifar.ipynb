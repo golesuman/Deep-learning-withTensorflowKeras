{
  "nbformat": 4,
  "nbformat_minor": 0,
  "metadata": {
    "colab": {
      "name": "Cifar.ipynb",
      "provenance": []
    },
    "kernelspec": {
      "name": "python3",
      "display_name": "Python 3"
    },
    "language_info": {
      "name": "python"
    },
    "accelerator": "GPU"
  },
  "cells": [
    {
      "cell_type": "code",
      "metadata": {
        "id": "0_APFkHRmos9"
      },
      "source": [
        "import tensorflow as tf\n",
        "from tensorflow.keras.datasets import cifar10\n",
        "import matplotlib.pyplot as plt\n",
        "import numpy as np\n",
        "from tensorflow.keras import layers,models\n",
        "(x_train,y_train),(x_test,y_test)=cifar10.load_data()"
      ],
      "execution_count": 3,
      "outputs": []
    },
    {
      "cell_type": "code",
      "metadata": {
        "id": "bAkUODYxnDa3"
      },
      "source": [
        "x_train,x_test=x_train/255,x_test/255\n",
        "model=models.Sequential([\n",
        "    layers.Conv2D(64,(3,3),activation='relu', input_shape=(32,32,3)),\n",
        "    layers.MaxPool2D(2,2),\n",
        "    layers.Conv2D(64,(3,3),activation='relu'),\n",
        "    layers.MaxPool2D(2,2),\n",
        "    layers.Flatten(),\n",
        "    layers.Dense(500,activation='relu'),\n",
        "    layers.Dense(10,activation='softmax')\n",
        "])"
      ],
      "execution_count": 4,
      "outputs": []
    },
    {
      "cell_type": "code",
      "metadata": {
        "id": "DLK42bcvnLsS"
      },
      "source": [
        "model.compile(optimizer='RMsprop',loss='sparse_categorical_crossentropy',metrics=['accuracy'])\n"
      ],
      "execution_count": 14,
      "outputs": []
    },
    {
      "cell_type": "code",
      "metadata": {
        "colab": {
          "base_uri": "https://localhost:8080/"
        },
        "id": "sqmpgg8enQ8G",
        "outputId": "647ce600-9893-46bc-e98d-316a76468350"
      },
      "source": [
        "model.summary()"
      ],
      "execution_count": 15,
      "outputs": [
        {
          "output_type": "stream",
          "text": [
            "Model: \"sequential\"\n",
            "_________________________________________________________________\n",
            "Layer (type)                 Output Shape              Param #   \n",
            "=================================================================\n",
            "conv2d (Conv2D)              (None, 30, 30, 64)        1792      \n",
            "_________________________________________________________________\n",
            "max_pooling2d (MaxPooling2D) (None, 15, 15, 64)        0         \n",
            "_________________________________________________________________\n",
            "conv2d_1 (Conv2D)            (None, 13, 13, 64)        36928     \n",
            "_________________________________________________________________\n",
            "max_pooling2d_1 (MaxPooling2 (None, 6, 6, 64)          0         \n",
            "_________________________________________________________________\n",
            "flatten (Flatten)            (None, 2304)              0         \n",
            "_________________________________________________________________\n",
            "dense (Dense)                (None, 500)               1152500   \n",
            "_________________________________________________________________\n",
            "dense_1 (Dense)              (None, 10)                5010      \n",
            "=================================================================\n",
            "Total params: 1,196,230\n",
            "Trainable params: 1,196,230\n",
            "Non-trainable params: 0\n",
            "_________________________________________________________________\n"
          ],
          "name": "stdout"
        }
      ]
    },
    {
      "cell_type": "code",
      "metadata": {
        "colab": {
          "base_uri": "https://localhost:8080/"
        },
        "id": "bd3wr12iofiv",
        "outputId": "cef31f47-9410-4a02-df1b-e6f36b08cd95"
      },
      "source": [
        "history=model.fit(x=x_train,y=y_train,validation_data=(x_test,y_test),epochs=10)"
      ],
      "execution_count": 16,
      "outputs": [
        {
          "output_type": "stream",
          "text": [
            "Epoch 1/10\n",
            "1563/1563 [==============================] - 7s 4ms/step - loss: 0.0171 - accuracy: 0.9949 - val_loss: 4.2172 - val_accuracy: 0.7044\n",
            "Epoch 2/10\n",
            "1563/1563 [==============================] - 7s 4ms/step - loss: 0.0190 - accuracy: 0.9949 - val_loss: 4.6895 - val_accuracy: 0.7023\n",
            "Epoch 3/10\n",
            "1563/1563 [==============================] - 7s 4ms/step - loss: 0.0170 - accuracy: 0.9952 - val_loss: 4.9907 - val_accuracy: 0.7001\n",
            "Epoch 4/10\n",
            "1563/1563 [==============================] - 7s 4ms/step - loss: 0.0175 - accuracy: 0.9950 - val_loss: 5.5693 - val_accuracy: 0.6977\n",
            "Epoch 5/10\n",
            "1563/1563 [==============================] - 7s 4ms/step - loss: 0.0164 - accuracy: 0.9955 - val_loss: 5.4955 - val_accuracy: 0.7020\n",
            "Epoch 6/10\n",
            "1563/1563 [==============================] - 7s 4ms/step - loss: 0.0160 - accuracy: 0.9962 - val_loss: 5.7783 - val_accuracy: 0.7032\n",
            "Epoch 7/10\n",
            "1563/1563 [==============================] - 7s 4ms/step - loss: 0.0156 - accuracy: 0.9963 - val_loss: 5.6219 - val_accuracy: 0.7045\n",
            "Epoch 8/10\n",
            "1563/1563 [==============================] - 7s 4ms/step - loss: 0.0156 - accuracy: 0.9964 - val_loss: 6.1088 - val_accuracy: 0.7008\n",
            "Epoch 9/10\n",
            "1563/1563 [==============================] - 7s 4ms/step - loss: 0.0190 - accuracy: 0.9958 - val_loss: 6.1519 - val_accuracy: 0.7054\n",
            "Epoch 10/10\n",
            "1563/1563 [==============================] - 7s 4ms/step - loss: 0.0175 - accuracy: 0.9962 - val_loss: 6.4972 - val_accuracy: 0.6989\n"
          ],
          "name": "stdout"
        }
      ]
    },
    {
      "cell_type": "code",
      "metadata": {
        "colab": {
          "base_uri": "https://localhost:8080/",
          "height": 518
        },
        "id": "GYMKOnLeqGXl",
        "outputId": "45c030a5-4f1f-4f46-cd80-0eca6be91eaa"
      },
      "source": [
        "plt.figure(figsize=(12,8))\n",
        "plt.plot(history.history['accuracy'],label='accuracy')\n",
        "plt.plot(history.history['val_accuracy'],label='val_accuracy')\n",
        "plt.xlabel('Epoch')\n",
        "plt.ylabel('Accuracy')\n",
        "plt.ylim([0.5,1])\n",
        "plt.legend(loc='lower right')"
      ],
      "execution_count": 17,
      "outputs": [
        {
          "output_type": "execute_result",
          "data": {
            "text/plain": [
              "<matplotlib.legend.Legend at 0x7f4bdc4f0dd0>"
            ]
          },
          "metadata": {
            "tags": []
          },
          "execution_count": 17
        },
        {
          "output_type": "display_data",
          "data": {
            "image/png": "[encoded data removed]",
            "text/plain": [
              "<Figure size 864x576 with 1 Axes>"
            ]
          },
          "metadata": {
            "tags": [],
            "needs_background": "light"
          }
        }
      ]
    },
    {
      "cell_type": "code",
      "metadata": {
        "id": "VXViDFQUpboA"
      },
      "source": [
        ""
      ],
      "execution_count": null,
      "outputs": []
    }
  ]
}