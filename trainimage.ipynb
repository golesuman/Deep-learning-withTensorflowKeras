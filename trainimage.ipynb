{
  "nbformat": 4,
  "nbformat_minor": 0,
  "metadata": {
    "colab": {
      "name": "trainimage.ipynb",
      "provenance": [],
      "mount_file_id": "1RVLgZ03nQ8ws3NQdNJvdNCHJ_3plbEbQ",
      "authorship_tag": "ABX9TyNvMuqUyakiK3ZNk2koNLEa",
      "include_colab_link": true
    },
    "kernelspec": {
      "name": "python3",
      "display_name": "Python 3"
    },
    "language_info": {
      "name": "python"
    },
    "accelerator": "GPU",
    "gpuClass": "standard"
  },
  "cells": [
    {
      "cell_type": "markdown",
      "metadata": {
        "id": "view-in-github",
        "colab_type": "text"
      },
      "source": [
        "<a href=\"https://colab.research.google.com/github/golesuman/Deep-learning-withTensorflowKeras/blob/main/trainimage.ipynb\" target=\"_parent\"><img src=\"https://colab.research.google.com/assets/colab-badge.svg\" alt=\"Open In Colab\"/></a>"
      ]
    },
    {
      "cell_type": "code",
      "execution_count": 33,
      "metadata": {
        "id": "lJBxKyG0BQeZ"
      },
      "outputs": [],
      "source": [
        "import pandas as pd\n",
        "import tensorflow as tf\n",
        "# from tensorflow.keras import layers,models,\n",
        "import numpy as np\n",
        "import matplotlib.pyplot as plt\n",
        "from tensorflow.keras import models\n",
        "import os\n",
        "import cv2 as cv\n",
        "from tensorflow.keras.preprocessing.image import ImageDataGenerator\n",
        "from tensorflow.keras import layers"
      ]
    },
    {
      "cell_type": "code",
      "source": [
        "from google.colab import drive\n",
        "drive.mount('/content/drive')"
      ],
      "metadata": {
        "colab": {
          "base_uri": "https://localhost:8080/"
        },
        "id": "gm8Q-3isMn8z",
        "outputId": "5691f1f6-b7c6-4f81-98fb-1b21a980cfa7"
      },
      "execution_count": 34,
      "outputs": [
        {
          "output_type": "stream",
          "name": "stdout",
          "text": [
            "Drive already mounted at /content/drive; to attempt to forcibly remount, call drive.mount(\"/content/drive\", force_remount=True).\n"
          ]
        }
      ]
    },
    {
      "cell_type": "code",
      "source": [
        "!unzip /content/drive/MyDrive/Data.zip"
      ],
      "metadata": {
        "colab": {
          "base_uri": "https://localhost:8080/"
        },
        "id": "JWeSQBcoDFwG",
        "outputId": "f3535b89-96a9-4f63-8f4b-6fed4067e2a0"
      },
      "execution_count": 35,
      "outputs": [
        {
          "output_type": "stream",
          "name": "stdout",
          "text": [
            "Archive:  /content/drive/MyDrive/Data.zip\n",
            "replace Data/train/Accident/Accident54.jpg? [y]es, [n]o, [A]ll, [N]one, [r]ename: N\n"
          ]
        }
      ]
    },
    {
      "cell_type": "code",
      "source": [
        "src_train_path = '/content/Data/train'\n",
        "src_test_path = '/content/Data/test'\n",
        "# src_test_valid = '/content/Data/'\n",
        "train_datagen = ImageDataGenerator(\n",
        "        rescale=1 / 255.0,\n",
        "        rotation_range=20,\n",
        "        zoom_range=0.05,\n",
        "        width_shift_range=0.05,\n",
        "        height_shift_range=0.05,\n",
        "        shear_range=0.05,\n",
        "        horizontal_flip=True,\n",
        "        fill_mode=\"nearest\",\n",
        "        validation_split=0.20)\n",
        "\n",
        "test_datagen = ImageDataGenerator(rescale=1 / 255.0)"
      ],
      "metadata": {
        "id": "mpC0NCAcCPmj"
      },
      "execution_count": 36,
      "outputs": []
    },
    {
      "cell_type": "code",
      "source": [
        "batch_size = 8\n",
        "train_generator = train_datagen.flow_from_directory(\n",
        "    directory= src_train_path,\n",
        "    target_size=(100, 100),\n",
        "    color_mode=\"rgb\",\n",
        "    batch_size=batch_size,\n",
        "    class_mode=\"categorical\",\n",
        "    subset='training',\n",
        "    shuffle=True,\n",
        "    seed=42\n",
        ")\n",
        "valid_generator = train_datagen.flow_from_directory(\n",
        "    directory=src_train_path,\n",
        "    target_size=(100, 100),\n",
        "    color_mode=\"rgb\",\n",
        "    batch_size=batch_size,\n",
        "    class_mode=\"categorical\",\n",
        "    subset='validation',\n",
        "    shuffle=True,\n",
        "    seed=42\n",
        ")\n",
        "test_generator = test_datagen.flow_from_directory(\n",
        "    directory=src_test_path,\n",
        "    target_size=(100, 100),\n",
        "    color_mode=\"rgb\",\n",
        "    batch_size=1,\n",
        "    class_mode=None,\n",
        "    shuffle=False,\n",
        "    seed=42\n",
        ")\n",
        "\n"
      ],
      "metadata": {
        "id": "Suitg2BQDgYh",
        "colab": {
          "base_uri": "https://localhost:8080/"
        },
        "outputId": "2167f307-1612-4bb9-da5b-9b29023b619a"
      },
      "execution_count": 37,
      "outputs": [
        {
          "output_type": "stream",
          "name": "stdout",
          "text": [
            "Found 245 images belonging to 2 classes.\n",
            "Found 60 images belonging to 2 classes.\n",
            "Found 48 images belonging to 2 classes.\n"
          ]
        }
      ]
    },
    {
      "cell_type": "code",
      "source": [
        "def prepare_model():\n",
        "    layers.Conv2D(64,(3,3),input_shape=(100,100,1),activation='relu'),\n",
        "    layers.MaxPool2D(3,3),\n",
        "    \n",
        "    layers.Conv2D(64,(3,3),activation='relu'),\n",
        "    layers.MaxPool2D(3,3),\n",
        "    \n",
        "    layers.Conv2D(64,(3,3),activation='relu'),\n",
        "    layers.MaxPool2D(3,3),\n",
        "    \n",
        "    layers.Flatten(),\n",
        "    layers.Dense(1000,activation='relu'),\n",
        "    layers.Dense(2,activation='softmax')\n",
        "    model.compile(loss=\"binary_crossentropy\",optimizer=\"adam\",metrics=['accuracy'])\n",
        "    return model\n",
        "\n",
        "model = prepare_model()"
      ],
      "metadata": {
        "id": "-OgRJmbON-zh"
      },
      "execution_count": 40,
      "outputs": []
    },
    {
      "cell_type": "code",
      "source": [
        "model.summary()"
      ],
      "metadata": {
        "colab": {
          "base_uri": "https://localhost:8080/"
        },
        "id": "vH03tOP0P0DA",
        "outputId": "01118c3a-c3ad-4d1a-ff9c-aa0abd572b1f"
      },
      "execution_count": 41,
      "outputs": [
        {
          "output_type": "stream",
          "name": "stdout",
          "text": [
            "Model: \"sequential_8\"\n",
            "_________________________________________________________________\n",
            " Layer (type)                Output Shape              Param #   \n",
            "=================================================================\n",
            " conv2d_13 (Conv2D)          (None, 98, 98, 32)        896       \n",
            "                                                                 \n",
            " max_pooling2d_13 (MaxPoolin  (None, 49, 49, 32)       0         \n",
            " g2D)                                                            \n",
            "                                                                 \n",
            " flatten_7 (Flatten)         (None, 76832)             0         \n",
            "                                                                 \n",
            " dense_12 (Dense)            (None, 16)                1229328   \n",
            "                                                                 \n",
            " dense_13 (Dense)            (None, 2)                 34        \n",
            "                                                                 \n",
            "=================================================================\n",
            "Total params: 1,230,258\n",
            "Trainable params: 1,230,258\n",
            "Non-trainable params: 0\n",
            "_________________________________________________________________\n"
          ]
        }
      ]
    },
    {
      "cell_type": "code",
      "source": [
        "model = prepare_model()\n",
        "model.fit_generator(train_generator,\n",
        "                    validation_data = train_generator,\n",
        "                    steps_per_epoch = train_generator.n//train_generator.batch_size,\n",
        "                    validation_steps = valid_generator.n//valid_generator.batch_size,\n",
        "                    epochs=20)"
      ],
      "metadata": {
        "colab": {
          "base_uri": "https://localhost:8080/"
        },
        "id": "7UhR39SZQsm5",
        "outputId": "80b63b3c-244d-4ead-cd10-60e9bccd3938"
      },
      "execution_count": 42,
      "outputs": [
        {
          "output_type": "stream",
          "name": "stdout",
          "text": [
            "Epoch 1/20\n"
          ]
        },
        {
          "output_type": "stream",
          "name": "stderr",
          "text": [
            "/usr/local/lib/python3.7/dist-packages/ipykernel_launcher.py:6: UserWarning: `Model.fit_generator` is deprecated and will be removed in a future version. Please use `Model.fit`, which supports generators.\n",
            "  \n"
          ]
        },
        {
          "output_type": "stream",
          "name": "stdout",
          "text": [
            "30/30 [==============================] - 3s 99ms/step - loss: 0.4450 - accuracy: 0.8101 - val_loss: 0.4669 - val_accuracy: 0.8750\n",
            "Epoch 2/20\n",
            "30/30 [==============================] - 3s 94ms/step - loss: 0.4882 - accuracy: 0.8228 - val_loss: 0.4249 - val_accuracy: 0.8571\n",
            "Epoch 3/20\n",
            "30/30 [==============================] - 3s 92ms/step - loss: 0.4156 - accuracy: 0.8523 - val_loss: 0.4386 - val_accuracy: 0.8036\n",
            "Epoch 4/20\n",
            "30/30 [==============================] - 3s 96ms/step - loss: 0.5088 - accuracy: 0.7833 - val_loss: 0.4231 - val_accuracy: 0.8571\n",
            "Epoch 5/20\n",
            "30/30 [==============================] - 3s 94ms/step - loss: 0.4609 - accuracy: 0.8354 - val_loss: 0.3921 - val_accuracy: 0.9107\n",
            "Epoch 6/20\n",
            "30/30 [==============================] - 3s 92ms/step - loss: 0.4242 - accuracy: 0.8417 - val_loss: 0.3856 - val_accuracy: 0.8571\n",
            "Epoch 7/20\n",
            "30/30 [==============================] - 3s 101ms/step - loss: 0.3964 - accuracy: 0.8945 - val_loss: 0.4011 - val_accuracy: 0.8750\n",
            "Epoch 8/20\n",
            "30/30 [==============================] - 3s 95ms/step - loss: 0.3752 - accuracy: 0.9030 - val_loss: 0.3428 - val_accuracy: 0.8750\n",
            "Epoch 9/20\n",
            "30/30 [==============================] - 3s 103ms/step - loss: 0.3770 - accuracy: 0.8945 - val_loss: 0.3950 - val_accuracy: 0.8036\n",
            "Epoch 10/20\n",
            "30/30 [==============================] - 3s 93ms/step - loss: 0.4167 - accuracy: 0.8565 - val_loss: 0.3946 - val_accuracy: 0.8750\n",
            "Epoch 11/20\n",
            "30/30 [==============================] - 3s 114ms/step - loss: 0.3729 - accuracy: 0.8945 - val_loss: 0.4384 - val_accuracy: 0.8571\n",
            "Epoch 12/20\n",
            "30/30 [==============================] - 3s 102ms/step - loss: 0.3559 - accuracy: 0.8987 - val_loss: 0.3098 - val_accuracy: 0.9821\n",
            "Epoch 13/20\n",
            "30/30 [==============================] - 3s 91ms/step - loss: 0.3853 - accuracy: 0.8692 - val_loss: 0.5023 - val_accuracy: 0.8036\n",
            "Epoch 14/20\n",
            "30/30 [==============================] - 3s 96ms/step - loss: 0.3702 - accuracy: 0.8861 - val_loss: 0.2662 - val_accuracy: 0.9464\n",
            "Epoch 15/20\n",
            "30/30 [==============================] - 3s 115ms/step - loss: 0.3310 - accuracy: 0.9072 - val_loss: 0.3417 - val_accuracy: 0.9286\n",
            "Epoch 16/20\n",
            "30/30 [==============================] - 3s 94ms/step - loss: 0.3380 - accuracy: 0.8861 - val_loss: 0.3015 - val_accuracy: 0.8929\n",
            "Epoch 17/20\n",
            "30/30 [==============================] - 3s 97ms/step - loss: 0.4049 - accuracy: 0.8228 - val_loss: 0.5835 - val_accuracy: 0.6964\n",
            "Epoch 18/20\n",
            "30/30 [==============================] - 3s 95ms/step - loss: 0.4968 - accuracy: 0.7679 - val_loss: 0.4583 - val_accuracy: 0.7857\n",
            "Epoch 19/20\n",
            "30/30 [==============================] - 3s 96ms/step - loss: 0.3459 - accuracy: 0.9030 - val_loss: 0.3895 - val_accuracy: 0.8571\n",
            "Epoch 20/20\n",
            "30/30 [==============================] - 3s 95ms/step - loss: 0.3204 - accuracy: 0.8987 - val_loss: 0.3704 - val_accuracy: 0.8214\n"
          ]
        },
        {
          "output_type": "execute_result",
          "data": {
            "text/plain": [
              "<keras.callbacks.History at 0x7fbcf2cb2910>"
            ]
          },
          "metadata": {},
          "execution_count": 42
        }
      ]
    },
    {
      "cell_type": "code",
      "source": [
        ""
      ],
      "metadata": {
        "colab": {
          "base_uri": "https://localhost:8080/"
        },
        "id": "OWyJ1g6vRiLU",
        "outputId": "12d8949e-9b84-4ece-a90c-197a47a2405e"
      },
      "execution_count": 44,
      "outputs": [
        {
          "output_type": "stream",
          "name": "stderr",
          "text": [
            "/usr/local/lib/python3.7/dist-packages/ipykernel_launcher.py:1: UserWarning: `Model.predict_generator` is deprecated and will be removed in a future version. Please use `Model.predict`, which supports generators.\n",
            "  \"\"\"Entry point for launching an IPython kernel.\n"
          ]
        }
      ]
    },
    {
      "cell_type": "code",
      "source": [
        "score = model.evaluate_generator(valid_generator)\n",
        "print('Test loss:', score[0])\n",
        "print('Test accuracy:', score[1])"
      ],
      "metadata": {
        "colab": {
          "base_uri": "https://localhost:8080/"
        },
        "id": "wS1YOd54QwsJ",
        "outputId": "c25a644b-c2b5-4251-931a-f208b5b5de3b"
      },
      "execution_count": 43,
      "outputs": [
        {
          "output_type": "stream",
          "name": "stderr",
          "text": [
            "/usr/local/lib/python3.7/dist-packages/ipykernel_launcher.py:1: UserWarning: `Model.evaluate_generator` is deprecated and will be removed in a future version. Please use `Model.evaluate`, which supports generators.\n",
            "  \"\"\"Entry point for launching an IPython kernel.\n"
          ]
        },
        {
          "output_type": "stream",
          "name": "stdout",
          "text": [
            "Test loss: 1.3077470064163208\n",
            "Test accuracy: 0.75\n"
          ]
        }
      ]
    },
    {
      "cell_type": "code",
      "source": [
        "predict=model.predict_generator(test_generator)\n",
        "# predict the class label\n",
        "y_classes = predict.argmax(axis=-1)"
      ],
      "metadata": {
        "colab": {
          "base_uri": "https://localhost:8080/"
        },
        "id": "D4wMwuVbRlaQ",
        "outputId": "1e37a43e-76ea-4eaa-ec93-2154106f7ac8"
      },
      "execution_count": 45,
      "outputs": [
        {
          "output_type": "stream",
          "name": "stderr",
          "text": [
            "/usr/local/lib/python3.7/dist-packages/ipykernel_launcher.py:1: UserWarning: `Model.predict_generator` is deprecated and will be removed in a future version. Please use `Model.predict`, which supports generators.\n",
            "  \"\"\"Entry point for launching an IPython kernel.\n"
          ]
        }
      ]
    },
    {
      "cell_type": "code",
      "source": [
        "print(y_classes)"
      ],
      "metadata": {
        "colab": {
          "base_uri": "https://localhost:8080/"
        },
        "id": "ULHzP6RVQ6Q0",
        "outputId": "580d26e0-1993-4923-9a91-d83197b42411"
      },
      "execution_count": 46,
      "outputs": [
        {
          "output_type": "stream",
          "name": "stdout",
          "text": [
            "[0 0 0 0 0 0 0 0 0 0 0 0 0 0 0 0 0 0 0 0 0 0 0 0 0 0 0 0 0 0 0 0 1 1 1 1 1\n",
            " 1 1 1 0 1 1 1 1 1 1 1]\n"
          ]
        }
      ]
    },
    {
      "cell_type": "code",
      "source": [
        "y_classes.size"
      ],
      "metadata": {
        "colab": {
          "base_uri": "https://localhost:8080/"
        },
        "id": "90IgQ3veRnNG",
        "outputId": "f183a769-d5d8-43b9-d29e-a1eeb95ed3e3"
      },
      "execution_count": 47,
      "outputs": [
        {
          "output_type": "execute_result",
          "data": {
            "text/plain": [
              "48"
            ]
          },
          "metadata": {},
          "execution_count": 47
        }
      ]
    },
    {
      "cell_type": "code",
      "source": [
        "count = 0\n",
        "for i in range(30):\n",
        "  if y_classes[i] == 0:\n",
        "    count +=1\n",
        "\n",
        "print(count)\n",
        "    "
      ],
      "metadata": {
        "id": "tm3fYcrxSEdl"
      },
      "execution_count": null,
      "outputs": []
    },
    {
      "cell_type": "code",
      "source": [
        "model.save('accidentornot.h5')"
      ],
      "metadata": {
        "id": "rvCv4uyyTQIr"
      },
      "execution_count": 53,
      "outputs": []
    },
    {
      "cell_type": "code",
      "source": [
        "from tensorflow.keras.models import load_model\n",
        "import cv2\n",
        "import numpy as np\n",
        "class_names = ['Accident', 'NotAccident'] # fill the rest\n",
        "\n",
        "model = load_model('accidentornot.h5')\n",
        "\n",
        "model.compile(loss='categorical_crossentropy',\n",
        "              optimizer='adam',\n",
        "              metrics=['accuracy'])\n",
        "\n",
        "\n",
        "def preprocess(image_path):\n",
        "  img = cv2.imread('/content/noacci.jpeg')\n",
        "  img = cv2.resize(img,(100,100))\n",
        "  img = np.reshape(img,[1,100,100,3])\n",
        "  return img\n",
        "\n",
        "def give_classes(img):\n",
        "  classes = np.argmax(model.predict(img), axis = -1)\n",
        "  names = [class_names[i] for i in classes]\n",
        "  return classes, names\n",
        "\n"
      ],
      "metadata": {
        "id": "-9VGBqjqUojZ"
      },
      "execution_count": 63,
      "outputs": []
    },
    {
      "cell_type": "code",
      "source": [
        "new_img = preprocess('/content/noacci.jpeg')\n",
        "classid, name = give_classes(new_img)\n",
        "print(classid, name)"
      ],
      "metadata": {
        "colab": {
          "base_uri": "https://localhost:8080/"
        },
        "id": "2Y4SloM6ViNp",
        "outputId": "0de3db69-71f1-46d6-c394-f2ca32237d54"
      },
      "execution_count": 66,
      "outputs": [
        {
          "output_type": "stream",
          "name": "stdout",
          "text": [
            "[1] ['NotAccident']\n"
          ]
        }
      ]
    },
    {
      "cell_type": "code",
      "source": [
        ""
      ],
      "metadata": {
        "id": "sEXN5ta5W_ei"
      },
      "execution_count": null,
      "outputs": []
    }
  ]
}